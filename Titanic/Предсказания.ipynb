{
 "cells": [
  {
   "cell_type": "code",
   "execution_count": 14,
   "metadata": {},
   "outputs": [],
   "source": [
    "import pandas as pd\n",
    "import joblib"
   ]
  },
  {
   "cell_type": "code",
   "execution_count": 15,
   "metadata": {},
   "outputs": [],
   "source": [
    "# Загрузка обучающих данных и тестового набора данных\n",
    "train_data = pd.read_csv('data/train_transform.csv')\n",
    "test_data = pd.read_csv('data/test_transform.csv')"
   ]
  },
  {
   "cell_type": "code",
   "execution_count": 16,
   "metadata": {},
   "outputs": [],
   "source": [
    "# Загрузка обученной модели с использованием joblib\n",
    "model = joblib.load('best_model_LightGBM.pkl')"
   ]
  },
  {
   "cell_type": "code",
   "execution_count": 17,
   "metadata": {},
   "outputs": [
    {
     "name": "stdout",
     "output_type": "stream",
     "text": [
      "Предсказания успешно записаны в файл Titanic/gender_submission.csv\n"
     ]
    }
   ],
   "source": [
    "# Предсказания на тестовом наборе данных\n",
    "test_data['Survived'] = model.predict(test_data.drop(columns=['PassengerId']))\n",
    "\n",
    "# Запись предсказаний в файл gender_submission.csv\n",
    "submission = test_data[['Survived']]\n",
    "submission.to_csv('gender_submission.csv', index=False)\n",
    "\n",
    "print(\"Предсказания успешно записаны в файл Titanic/gender_submission.csv\")"
   ]
  }
 ],
 "metadata": {
  "kernelspec": {
   "display_name": "Python 3",
   "language": "python",
   "name": "python3"
  },
  "language_info": {
   "codemirror_mode": {
    "name": "ipython",
    "version": 3
   },
   "file_extension": ".py",
   "mimetype": "text/x-python",
   "name": "python",
   "nbconvert_exporter": "python",
   "pygments_lexer": "ipython3",
   "version": "3.12.8"
  }
 },
 "nbformat": 4,
 "nbformat_minor": 2
}
