{
 "cells": [
  {
   "cell_type": "code",
   "execution_count": 1,
   "metadata": {},
   "outputs": [],
   "source": [
    "import pandas as pd\n",
    "\n",
    "# Загрузим тестовые данные\n",
    "test_data = pd.read_csv('data/test.csv')\n",
    "\n",
    "# Применим правило: выживают женщины и дети до 15 лет\n",
    "test_data['Survived'] = test_data.apply(lambda row: 1 if (row['Sex'] == 'female' or row['Age'] < 15) else 0, axis=1)\n",
    "\n",
    "# Подготовим файл для сохранения\n",
    "submission = test_data[['PassengerId', 'Survived']]\n",
    "\n",
    "# Сохраним результат в файл\n",
    "submission.to_csv('gender_submission.csv', index=False)\n",
    "\n"
   ]
  },
  {
   "cell_type": "code",
   "execution_count": 2,
   "metadata": {},
   "outputs": [],
   "source": [
    "import pandas as pd\n",
    "\n",
    "# Загрузим тестовые данные\n",
    "test_data = pd.read_csv('data/test.csv')\n",
    "\n",
    "# Применим правило: выживают женщины и дети до 15 лет\n",
    "test_data['Survived'] = test_data.apply(lambda row: 1 if (row['Sex'] == 'female') else 0, axis=1)\n",
    "\n",
    "# Подготовим файл для сохранения\n",
    "submission = test_data[['PassengerId', 'Survived']]\n",
    "\n",
    "# Сохраним результат в файл\n",
    "submission.to_csv('gender_submission.csv', index=False)"
   ]
  },
  {
   "cell_type": "code",
   "execution_count": null,
   "metadata": {},
   "outputs": [],
   "source": []
  }
 ],
 "metadata": {
  "kernelspec": {
   "display_name": "Python 3",
   "language": "python",
   "name": "python3"
  },
  "language_info": {
   "codemirror_mode": {
    "name": "ipython",
    "version": 3
   },
   "file_extension": ".py",
   "mimetype": "text/x-python",
   "name": "python",
   "nbconvert_exporter": "python",
   "pygments_lexer": "ipython3",
   "version": "3.12.8"
  }
 },
 "nbformat": 4,
 "nbformat_minor": 2
}
