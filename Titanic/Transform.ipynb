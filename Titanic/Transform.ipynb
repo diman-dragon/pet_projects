{
 "cells": [
  {
   "cell_type": "code",
   "execution_count": 1,
   "metadata": {},
   "outputs": [],
   "source": [
    "import pandas as pd\n",
    "import numpy as np\n",
    "import matplotlib.pyplot as plt\n",
    "from sklearn.cluster import KMeans\n",
    "from sklearn.preprocessing import LabelEncoder\n",
    "from sklearn.model_selection import train_test_split\n",
    "from sklearn.linear_model import LinearRegression\n",
    "from sklearn.metrics import mean_absolute_error\n",
    "from sklearn.metrics import r2_score\n",
    "from catboost import CatBoostRegressor\n",
    "from sklearn.preprocessing import MinMaxScaler\n",
    "\n",
    "import re\n",
    "from sklearn.preprocessing import LabelEncoder, StandardScaler\n",
    "from sklearn.ensemble import RandomForestClassifier\n",
    "from sklearn.metrics import accuracy_score, classification_report\n",
    "import warnings\n",
    "\n",
    "# Установка параметров для игнорирования предупреждений\n",
    "warnings.filterwarnings('ignore')\n",
    "\n",
    "pd.set_option('display.width', 200)\n"
   ]
  },
  {
   "cell_type": "code",
   "execution_count": 2,
   "metadata": {},
   "outputs": [],
   "source": [
    "# Загрузка данных\n",
    "data_train = pd.read_csv('data\\\\train.csv')\n",
    "data_test = pd.read_csv('data\\\\test.csv')"
   ]
  },
  {
   "cell_type": "code",
   "execution_count": 3,
   "metadata": {},
   "outputs": [
    {
     "data": {
      "text/html": [
       "<div>\n",
       "<style scoped>\n",
       "    .dataframe tbody tr th:only-of-type {\n",
       "        vertical-align: middle;\n",
       "    }\n",
       "\n",
       "    .dataframe tbody tr th {\n",
       "        vertical-align: top;\n",
       "    }\n",
       "\n",
       "    .dataframe thead th {\n",
       "        text-align: right;\n",
       "    }\n",
       "</style>\n",
       "<table border=\"1\" class=\"dataframe\">\n",
       "  <thead>\n",
       "    <tr style=\"text-align: right;\">\n",
       "      <th></th>\n",
       "      <th>PassengerId</th>\n",
       "      <th>Survived</th>\n",
       "      <th>Pclass</th>\n",
       "      <th>Name</th>\n",
       "      <th>Sex</th>\n",
       "      <th>Age</th>\n",
       "      <th>SibSp</th>\n",
       "      <th>Parch</th>\n",
       "      <th>Ticket</th>\n",
       "      <th>Fare</th>\n",
       "      <th>Cabin</th>\n",
       "      <th>Embarked</th>\n",
       "    </tr>\n",
       "  </thead>\n",
       "  <tbody>\n",
       "    <tr>\n",
       "      <th>0</th>\n",
       "      <td>1</td>\n",
       "      <td>0</td>\n",
       "      <td>3</td>\n",
       "      <td>Braund, Mr. Owen Harris</td>\n",
       "      <td>male</td>\n",
       "      <td>22.0</td>\n",
       "      <td>1</td>\n",
       "      <td>0</td>\n",
       "      <td>A/5 21171</td>\n",
       "      <td>7.2500</td>\n",
       "      <td>NaN</td>\n",
       "      <td>S</td>\n",
       "    </tr>\n",
       "    <tr>\n",
       "      <th>1</th>\n",
       "      <td>2</td>\n",
       "      <td>1</td>\n",
       "      <td>1</td>\n",
       "      <td>Cumings, Mrs. John Bradley (Florence Briggs Th...</td>\n",
       "      <td>female</td>\n",
       "      <td>38.0</td>\n",
       "      <td>1</td>\n",
       "      <td>0</td>\n",
       "      <td>PC 17599</td>\n",
       "      <td>71.2833</td>\n",
       "      <td>C85</td>\n",
       "      <td>C</td>\n",
       "    </tr>\n",
       "    <tr>\n",
       "      <th>2</th>\n",
       "      <td>3</td>\n",
       "      <td>1</td>\n",
       "      <td>3</td>\n",
       "      <td>Heikkinen, Miss. Laina</td>\n",
       "      <td>female</td>\n",
       "      <td>26.0</td>\n",
       "      <td>0</td>\n",
       "      <td>0</td>\n",
       "      <td>STON/O2. 3101282</td>\n",
       "      <td>7.9250</td>\n",
       "      <td>NaN</td>\n",
       "      <td>S</td>\n",
       "    </tr>\n",
       "    <tr>\n",
       "      <th>3</th>\n",
       "      <td>4</td>\n",
       "      <td>1</td>\n",
       "      <td>1</td>\n",
       "      <td>Futrelle, Mrs. Jacques Heath (Lily May Peel)</td>\n",
       "      <td>female</td>\n",
       "      <td>35.0</td>\n",
       "      <td>1</td>\n",
       "      <td>0</td>\n",
       "      <td>113803</td>\n",
       "      <td>53.1000</td>\n",
       "      <td>C123</td>\n",
       "      <td>S</td>\n",
       "    </tr>\n",
       "    <tr>\n",
       "      <th>4</th>\n",
       "      <td>5</td>\n",
       "      <td>0</td>\n",
       "      <td>3</td>\n",
       "      <td>Allen, Mr. William Henry</td>\n",
       "      <td>male</td>\n",
       "      <td>35.0</td>\n",
       "      <td>0</td>\n",
       "      <td>0</td>\n",
       "      <td>373450</td>\n",
       "      <td>8.0500</td>\n",
       "      <td>NaN</td>\n",
       "      <td>S</td>\n",
       "    </tr>\n",
       "  </tbody>\n",
       "</table>\n",
       "</div>"
      ],
      "text/plain": [
       "   PassengerId  Survived  Pclass                                               Name     Sex   Age  SibSp  Parch            Ticket     Fare Cabin Embarked\n",
       "0            1         0       3                            Braund, Mr. Owen Harris    male  22.0      1      0         A/5 21171   7.2500   NaN        S\n",
       "1            2         1       1  Cumings, Mrs. John Bradley (Florence Briggs Th...  female  38.0      1      0          PC 17599  71.2833   C85        C\n",
       "2            3         1       3                             Heikkinen, Miss. Laina  female  26.0      0      0  STON/O2. 3101282   7.9250   NaN        S\n",
       "3            4         1       1       Futrelle, Mrs. Jacques Heath (Lily May Peel)  female  35.0      1      0            113803  53.1000  C123        S\n",
       "4            5         0       3                           Allen, Mr. William Henry    male  35.0      0      0            373450   8.0500   NaN        S"
      ]
     },
     "execution_count": 3,
     "metadata": {},
     "output_type": "execute_result"
    }
   ],
   "source": [
    "data_train.head()"
   ]
  },
  {
   "cell_type": "code",
   "execution_count": 4,
   "metadata": {},
   "outputs": [
    {
     "name": "stdout",
     "output_type": "stream",
     "text": [
      "Количество пропусков по столбцам:\n",
      "PassengerId      0\n",
      "Survived         0\n",
      "Pclass           0\n",
      "Name             0\n",
      "Sex              0\n",
      "Age            177\n",
      "SibSp            0\n",
      "Parch            0\n",
      "Ticket           0\n",
      "Fare             0\n",
      "Cabin          687\n",
      "Embarked         2\n",
      "dtype: int64\n"
     ]
    }
   ],
   "source": [
    "# Проверка пропусков по столбцам\n",
    "missing_values = data_train.isnull().sum()\n",
    "\n",
    "# Вывод количества пропусков по каждому столбцу\n",
    "print(\"Количество пропусков по столбцам:\")\n",
    "print(missing_values)"
   ]
  },
  {
   "cell_type": "code",
   "execution_count": 5,
   "metadata": {},
   "outputs": [
    {
     "name": "stdout",
     "output_type": "stream",
     "text": [
      "Количество пропусков по столбцам:\n",
      "PassengerId      0\n",
      "Pclass           0\n",
      "Name             0\n",
      "Sex              0\n",
      "Age             86\n",
      "SibSp            0\n",
      "Parch            0\n",
      "Ticket           0\n",
      "Fare             1\n",
      "Cabin          327\n",
      "Embarked         0\n",
      "dtype: int64\n"
     ]
    }
   ],
   "source": [
    "# Проверка пропусков по столбцам\n",
    "missing_values = data_test.isnull().sum()\n",
    "\n",
    "# Вывод количества пропусков по каждому столбцу\n",
    "print(\"Количество пропусков по столбцам:\")\n",
    "print(missing_values)"
   ]
  },
  {
   "cell_type": "code",
   "execution_count": 6,
   "metadata": {},
   "outputs": [],
   "source": [
    "# Вручную заполняем пропущенные значения Embarked Fare\n",
    "# Это не совсем правильно.         \n",
    "data_train.loc[data_train['Name'].str.contains('Icard, Miss. Amelie'), 'Embarked'] = 'C'  # Шербур\n",
    "data_train.loc[data_train['Name'].str.contains('Stone, Mrs. George Nelson'), 'Embarked'] = 'S'  # Саутгемптон\n",
    "# Замена пропусков в 'Fare' на медиану\n",
    "data_test['Fare'] = data_test['Fare'].fillna(data_test['Fare'].median())"
   ]
  },
  {
   "cell_type": "code",
   "execution_count": 7,
   "metadata": {},
   "outputs": [],
   "source": [
    "# Удаляем столбец 'PassengerId'\n",
    "data_train = data_train.drop(columns=['PassengerId'])"
   ]
  },
  {
   "cell_type": "code",
   "execution_count": 8,
   "metadata": {},
   "outputs": [],
   "source": [
    "# Преобразуем значения в столбце 'Sex' (женщина = 1, мужчина = 0)\n",
    "# Графики указали, что женщины имеют больший шанс на выживание\n",
    "data_train['Sex'] = data_train['Sex'].map({'female': 1, 'male': 0}).astype(\"int8\")\n",
    "data_test['Sex'] = data_test['Sex'].map({'female': 1, 'male': 0}).astype(\"int8\")"
   ]
  },
  {
   "cell_type": "code",
   "execution_count": 9,
   "metadata": {},
   "outputs": [],
   "source": [
    "# Преобразуем значения в столбце 'Pclass' (3 -> 1, 1 -> 3)\n",
    "# Первый класс имеет больше шансов, 3 меньше\n",
    "data_train['Pclass'] = data_train['Pclass'].map({1: 3, 3: 1, 2: 2}).astype(\"int8\")\n",
    "data_test['Pclass'] = data_test['Pclass'].map({1: 3, 3: 1, 2: 2}).astype(\"int8\")"
   ]
  },
  {
   "cell_type": "code",
   "execution_count": 10,
   "metadata": {},
   "outputs": [],
   "source": [
    "# Применяем one-hot encoding с помощью pd.get_dummies\n",
    "data_train = pd.get_dummies(data_train, columns=['Embarked'], drop_first=False, dtype='int8')\n",
    "data_test = pd.get_dummies(data_test, columns=['Embarked'], drop_first=False, dtype='int8')"
   ]
  },
  {
   "cell_type": "code",
   "execution_count": 11,
   "metadata": {},
   "outputs": [],
   "source": [
    "# Извлечение титула из строки\n",
    "data_train['Title'] = data_train['Name'].str.extract(r'([A-Za-z]+)\\.', expand=False)\n",
    "data_test['Title'] = data_test['Name'].str.extract(r'([A-Za-z]+)\\.', expand=False)\n",
    "\n",
    "# Удаляем титул с точкой из строки\n",
    "data_train['Name'] = data_train['Name'].str.replace(r'\\s?[A-Za-z]+\\.', '', regex=True).str.strip()\n",
    "data_test['Name'] = data_test['Name'].str.replace(r'\\s?[A-Za-z]+\\.', '', regex=True).str.strip()"
   ]
  },
  {
   "cell_type": "code",
   "execution_count": 12,
   "metadata": {},
   "outputs": [],
   "source": [
    "# Маппинг титулов\n",
    "title_mapping = {\n",
    "    'Mr': 'Mr',\n",
    "    'Miss': 'Miss',\n",
    "    'Mrs': 'Mrs',\n",
    "    'Master': 'Master',\n",
    "    'Dr': 'Rare',\n",
    "    'Rev': 'Rare',\n",
    "    'Mlle': 'Miss',\n",
    "    'Major': 'Rare',\n",
    "    'Col': 'Rare',\n",
    "    'Countess': 'Noble',\n",
    "    'Capt': 'Rare',\n",
    "    'Ms': 'Miss',\n",
    "    'Sir': 'Noble',\n",
    "    'Lady': 'Noble',\n",
    "    'Mme': 'Mrs',\n",
    "    'Don': 'Noble',\n",
    "    'Jonkheer': 'Noble'\n",
    "}\n",
    "\n",
    "# Применяем маппинг к столбцу 'Title'\n",
    "data_train['TitleCategory'] = data_train['Title'].map(title_mapping).fillna('Other')\n",
    "data_test['TitleCategory'] = data_test['Title'].map(title_mapping).fillna('Other')"
   ]
  },
  {
   "cell_type": "code",
   "execution_count": 13,
   "metadata": {},
   "outputs": [
    {
     "name": "stderr",
     "output_type": "stream",
     "text": [
      "  File \"C:\\Users\\14488\\AppData\\Local\\Packages\\PythonSoftwareFoundation.Python.3.11_qbz5n2kfra8p0\\LocalCache\\local-packages\\Python311\\site-packages\\joblib\\externals\\loky\\backend\\context.py\", line 257, in _count_physical_cores\n",
      "    cpu_info = subprocess.run(\n",
      "               ^^^^^^^^^^^^^^^\n",
      "  File \"C:\\Program Files\\WindowsApps\\PythonSoftwareFoundation.Python.3.11_3.11.2544.0_x64__qbz5n2kfra8p0\\Lib\\subprocess.py\", line 548, in run\n",
      "    with Popen(*popenargs, **kwargs) as process:\n",
      "         ^^^^^^^^^^^^^^^^^^^^^^^^^^^\n",
      "  File \"C:\\Program Files\\WindowsApps\\PythonSoftwareFoundation.Python.3.11_3.11.2544.0_x64__qbz5n2kfra8p0\\Lib\\subprocess.py\", line 1026, in __init__\n",
      "    self._execute_child(args, executable, preexec_fn, close_fds,\n",
      "  File \"C:\\Program Files\\WindowsApps\\PythonSoftwareFoundation.Python.3.11_3.11.2544.0_x64__qbz5n2kfra8p0\\Lib\\subprocess.py\", line 1538, in _execute_child\n",
      "    hp, ht, pid, tid = _winapi.CreateProcess(executable, args,\n",
      "                       ^^^^^^^^^^^^^^^^^^^^^^^^^^^^^^^^^^^^^^^\n"
     ]
    }
   ],
   "source": [
    "# Применяем кластеризацию с 6 кластерами \n",
    "fare_data_train = data_train[['Fare']]\n",
    "kmeans = KMeans(n_clusters=6, random_state=42)\n",
    "data_train.loc[fare_data_train.index, 'FareCluster'] = kmeans.fit_predict(fare_data_train)\n",
    "# Преобразуем столбец 'FareCluster' в тип int8\n",
    "data_train['FareCluster'] = data_train['FareCluster'].astype('int8')"
   ]
  },
  {
   "cell_type": "code",
   "execution_count": 14,
   "metadata": {},
   "outputs": [],
   "source": [
    "fare_data_test = data_test[['Fare']]\n",
    "kmeans = KMeans(n_clusters=6, random_state=42)\n",
    "data_test.loc[fare_data_test.index, 'FareCluster'] = kmeans.fit_predict(fare_data_test)\n",
    "# Преобразуем столбец 'FareCluster' в тип int8\n",
    "data_test['FareCluster'] = data_test['FareCluster'].astype('int8')"
   ]
  },
  {
   "cell_type": "code",
   "execution_count": 15,
   "metadata": {},
   "outputs": [],
   "source": [
    "# Используем регулярные выражения для выделения префиксов и номеров билетов\n",
    "data_train['Ticket_Prefix'] = data_train['Ticket'].str.extract(r'([A-Za-z\\.\\/\\s]+)', expand=False)  # Выделяем префиксы\n",
    "data_train['Ticket_Number'] = data_train['Ticket'].str.extract(r'(\\d+)', expand=False)  # Выделяем номер билета\n",
    "# Заменяем NaN в Ticket_Prefix на '0'\n",
    "data_train['Ticket_Prefix'] = data_train['Ticket_Prefix'].fillna('0')\n",
    "# Преобразуем Ticket_Number в числовой формат\n",
    "data_train['Ticket_Number'] = pd.to_numeric(data_train['Ticket_Number'], errors='coerce')\n",
    "# Заменяем NaN в Ticket_Number на 0\n",
    "data_train['Ticket_Number'] = data_train['Ticket_Number'].fillna(0)\n",
    "# Удаляем столбец 'Ticket'\n",
    "data_train = data_train.drop(columns=['Ticket'])"
   ]
  },
  {
   "cell_type": "code",
   "execution_count": 16,
   "metadata": {},
   "outputs": [],
   "source": [
    "# Используем регулярные выражения для выделения префиксов и номеров билетов\n",
    "data_test['Ticket_Prefix'] = data_test['Ticket'].str.extract(r'([A-Za-z\\.\\/\\s]+)', expand=False)  # Выделяем префиксы\n",
    "data_test['Ticket_Number'] = data_test['Ticket'].str.extract(r'(\\d+)', expand=False)  # Выделяем номер билета\n",
    "\n",
    "# Заменяем NaN в Ticket_Prefix на '0'\n",
    "data_test['Ticket_Prefix'] = data_test['Ticket_Prefix'].fillna('0')\n",
    "\n",
    "# Преобразуем Ticket_Number в числовой формат\n",
    "data_test['Ticket_Number'] = pd.to_numeric(data_test['Ticket_Number'], errors='coerce')\n",
    "\n",
    "# Заменяем NaN в Ticket_Number на 0\n",
    "data_test['Ticket_Number'] = data_test['Ticket_Number'].fillna(0)\n",
    "\n",
    "# Удаляем столбец 'Ticket'\n",
    "data_test = data_test.drop(columns=['Ticket'])\n"
   ]
  },
  {
   "cell_type": "code",
   "execution_count": 17,
   "metadata": {},
   "outputs": [],
   "source": [
    "# Инициализируем LabelEncoder\n",
    "encoder = LabelEncoder()\n",
    "\n",
    "# Кодируем каждый столбец отдельно\n",
    "data_train['Ticket_Prefix'] = encoder.fit_transform(data_train['Ticket_Prefix'])\n",
    "data_train['Title'] = encoder.fit_transform(data_train['Title'])\n",
    "data_train['Name'] = encoder.fit_transform(data_train['Name'])\n",
    "data_train['TitleCategory'] = encoder.fit_transform(data_train['TitleCategory'])"
   ]
  },
  {
   "cell_type": "code",
   "execution_count": 18,
   "metadata": {},
   "outputs": [],
   "source": [
    "# Инициализируем LabelEncoder\n",
    "encoder = LabelEncoder()\n",
    "\n",
    "# Кодируем каждый столбец отдельно\n",
    "data_test['Ticket_Prefix'] = encoder.fit_transform(data_test['Ticket_Prefix'])\n",
    "data_test['Title'] = encoder.fit_transform(data_test['Title'])\n",
    "data_test['Name'] = encoder.fit_transform(data_test['Name'])\n",
    "data_test['TitleCategory'] = encoder.fit_transform(data_test['TitleCategory'])\n"
   ]
  },
  {
   "cell_type": "code",
   "execution_count": 19,
   "metadata": {},
   "outputs": [],
   "source": [
    "# Удалим ненужные столбцы\n",
    "data_train_age = data_train.drop(columns=['Survived', 'Cabin'])\n",
    "\n",
    "# Разделяем данные на два набора: те, где Age не пропущен, и те, где Age пропущен\n",
    "data_train_not_na = data_train_age[data_train_age['Age'].notna()]\n",
    "data_train_na = data_train_age[data_train_age['Age'].isna()]\n",
    "\n",
    "# Определяем признаки (X) и целевую переменную (y) для обучения\n",
    "X_train = data_train_not_na.drop(columns=['Age'])\n",
    "y_train = data_train_not_na['Age']\n",
    "\n",
    "# Масштабируем данные\n",
    "scaler = StandardScaler()\n",
    "X_train_scaled = scaler.fit_transform(X_train)\n",
    "\n",
    "# Строим модель CatBoost\n",
    "catboost_model = CatBoostRegressor(iterations=1000, learning_rate=0.1, depth=6, random_seed=42, verbose=0)\n",
    "catboost_model.fit(X_train_scaled, y_train)\n",
    "\n",
    "# Для строк с пропущенными значениями в 'Age' предсказываем возраст\n",
    "X_na = data_train_na.drop(columns=['Age'])\n",
    "X_na_scaled = scaler.transform(X_na)\n",
    "age_pred_catboost = catboost_model.predict(X_na_scaled)\n",
    "\n",
    "# Заполняем пропуски в Age предсказанными значениями\n",
    "data_train.loc[data_train['Age'].isna(), 'Age'] = age_pred_catboost\n"
   ]
  },
  {
   "cell_type": "code",
   "execution_count": 20,
   "metadata": {},
   "outputs": [],
   "source": [
    "# Удалим ненужные столбцы\n",
    "data_test_age = data_test.drop(columns=['Cabin', 'PassengerId'])\n",
    "\n",
    "# Разделяем данные на два набора: те, где Age не пропущен, и те, где Age пропущен\n",
    "data_test_not_na = data_test_age[data_test_age['Age'].notna()]\n",
    "data_test_na = data_test_age[data_test_age['Age'].isna()]\n",
    "\n",
    "# Определяем признаки (X) и целевую переменную (y) для обучения\n",
    "X_train = data_test_not_na.drop(columns=['Age'])\n",
    "y_train = data_test_not_na['Age']\n",
    "\n",
    "# Масштабируем данные\n",
    "scaler = StandardScaler()\n",
    "X_train_scaled = scaler.fit_transform(X_train)\n",
    "\n",
    "# Строим модель CatBoost\n",
    "catboost_model = CatBoostRegressor(iterations=1000, learning_rate=0.1, depth=6, random_seed=42, verbose=0)\n",
    "catboost_model.fit(X_train_scaled, y_train)\n",
    "\n",
    "# Для строк с пропущенными значениями в 'Age' предсказываем возраст\n",
    "X_na = data_test_na.drop(columns=['Age'])\n",
    "X_na_scaled = scaler.transform(X_na)\n",
    "age_pred_catboost = catboost_model.predict(X_na_scaled)\n",
    "\n",
    "# Заполняем пропуски в Age предсказанными значениями\n",
    "data_test.loc[data_test['Age'].isna(), 'Age'] = age_pred_catboost\n"
   ]
  },
  {
   "cell_type": "code",
   "execution_count": 21,
   "metadata": {},
   "outputs": [],
   "source": [
    "# Создаем признак количества кают\n",
    "data_train['Cabin_Count'] = data_train['Cabin'].str.split().str.len().fillna(1).astype('int8')\n",
    "data_test['Cabin_Count'] = data_test['Cabin'].str.split().str.len().fillna(1).astype('int8')"
   ]
  },
  {
   "cell_type": "code",
   "execution_count": 22,
   "metadata": {},
   "outputs": [],
   "source": [
    "# Разделяем множественные каюты и берем первую\n",
    "data_train['Primary_Cabin'] = data_train['Cabin'].str.split().str[0]\n",
    "data_test['Primary_Cabin'] = data_test['Cabin'].str.split().str[0]"
   ]
  },
  {
   "cell_type": "code",
   "execution_count": 23,
   "metadata": {},
   "outputs": [],
   "source": [
    "# Разделяем номер основной каюты на букву и число\n",
    "data_train['Cabin_Letter'] = data_train['Primary_Cabin'].str[0]\n",
    "data_test['Cabin_Letter'] = data_test['Primary_Cabin'].str[0]"
   ]
  },
  {
   "cell_type": "code",
   "execution_count": 24,
   "metadata": {},
   "outputs": [],
   "source": [
    "data_train['Cabin_Number'] = data_train['Primary_Cabin'].str.extract('(\\d+)').astype(float)\n",
    "# Удаление столбца Primary_Cabin\n",
    "data_train.drop(columns=['Primary_Cabin'], inplace=True)\n",
    "\n",
    "data_test['Cabin_Number'] = data_test['Primary_Cabin'].str.extract('(\\d+)').astype(float)\n",
    "# Удаление столбца Primary_Cabin\n",
    "data_test.drop(columns=['Primary_Cabin'], inplace=True)"
   ]
  },
  {
   "cell_type": "code",
   "execution_count": 25,
   "metadata": {},
   "outputs": [
    {
     "name": "stdout",
     "output_type": "stream",
     "text": [
      "Accuracy on training data_train: 1.0000\n",
      "0\n"
     ]
    }
   ],
   "source": [
    "# Выделяем необходимые признаки\n",
    "features = ['Pclass', 'Sex', 'Age', 'Title', 'TitleCategory', 'Fare']\n",
    "target = 'Cabin_Letter'\n",
    "\n",
    "# Разделяем данные на обучающую и тестовую выборки\n",
    "data_train_train = data_train[data_train[target].notna()]  # обучающая выборка (без NaN в Cabin_Letter)\n",
    "data_train_test = data_train[data_train[target].isna()]   # тестовая выборка (с NaN в Cabin_Letter)\n",
    "\n",
    "# Признаки и целевая переменная для обучения\n",
    "X_train = data_train_train[features]\n",
    "y_train = data_train_train[target]\n",
    "\n",
    "# Масштабируем данные\n",
    "scaler = StandardScaler()\n",
    "X_train_scaled = scaler.fit_transform(X_train)\n",
    "\n",
    "# Признаки для теста (будем использовать их для предсказания)\n",
    "X_test = data_train_test[features]\n",
    "X_test_scaled = scaler.transform(X_test)\n",
    "\n",
    "# Строим модель случайного леса\n",
    "model = RandomForestClassifier(n_estimators=100, random_state=42)\n",
    "model.fit(X_train_scaled, y_train)\n",
    "\n",
    "# Оценка модели на обучающей выборке\n",
    "y_pred_train = model.predict(X_train_scaled)\n",
    "\n",
    "# Точность на обучающей выборке\n",
    "accuracy = accuracy_score(y_train, y_pred_train)\n",
    "print(f'Accuracy on training data_train: {accuracy:.4f}')\n",
    "\n",
    "# Прогнозируем на тестовой выборке\n",
    "y_pred_test = model.predict(X_test_scaled)\n",
    "\n",
    "# Заполняем пропуски в 'Cabin_Letter' предсказанными значениями\n",
    "data_train.loc[data_train[target].isna(), target] = y_pred_test\n",
    "\n",
    "# Проверяем результат\n",
    "print(data_train[target].isna().sum())  # проверим, сколько осталось пропусков в 'Cabin_Letter'\n"
   ]
  },
  {
   "cell_type": "code",
   "execution_count": 26,
   "metadata": {},
   "outputs": [
    {
     "name": "stdout",
     "output_type": "stream",
     "text": [
      "Accuracy on training data_test: 1.0000\n",
      "0\n"
     ]
    }
   ],
   "source": [
    "# Выделяем необходимые признаки\n",
    "features = ['Pclass', 'Sex', 'Age', 'Title', 'TitleCategory', 'Fare']\n",
    "target = 'Cabin_Letter'\n",
    "\n",
    "# Разделяем данные на обучающую и тестовую выборки\n",
    "data_test_train = data_test[data_test[target].notna()]  # обучающая выборка (без NaN в Cabin_Letter)\n",
    "data_test_test = data_test[data_test[target].isna()]   # тестовая выборка (с NaN в Cabin_Letter)\n",
    "\n",
    "# Признаки и целевая переменная для обучения\n",
    "X_train = data_test_train[features]\n",
    "y_train = data_test_train[target]\n",
    "\n",
    "# Масштабируем данные\n",
    "scaler = StandardScaler()\n",
    "X_train_scaled = scaler.fit_transform(X_train)\n",
    "\n",
    "# Признаки для теста (будем использовать их для предсказания)\n",
    "X_test = data_test_test[features]\n",
    "X_test_scaled = scaler.transform(X_test)\n",
    "\n",
    "# Строим модель случайного леса\n",
    "model = RandomForestClassifier(n_estimators=100, random_state=42)\n",
    "model.fit(X_train_scaled, y_train)\n",
    "\n",
    "# Оценка модели на обучающей выборке\n",
    "y_pred_train = model.predict(X_train_scaled)\n",
    "\n",
    "# Точность на обучающей выборке\n",
    "accuracy = accuracy_score(y_train, y_pred_train)\n",
    "print(f'Accuracy on training data_test: {accuracy:.4f}')\n",
    "\n",
    "# Прогнозируем на тестовой выборке\n",
    "y_pred_test = model.predict(X_test_scaled)\n",
    "\n",
    "# Заполняем пропуски в 'Cabin_Letter' предсказанными значениями\n",
    "data_test.loc[data_test[target].isna(), target] = y_pred_test\n",
    "\n",
    "# Проверяем результат\n",
    "print(data_test[target].isna().sum())  # проверим, сколько осталось пропусков в 'Cabin_Letter'\n"
   ]
  },
  {
   "cell_type": "code",
   "execution_count": 27,
   "metadata": {},
   "outputs": [],
   "source": [
    "# Теперь заполняем пропуски в 'Cabin_Number' медианными значениями для каждого 'Cabin_Letter'\n",
    "for letter in data_train['Cabin_Letter'].unique():\n",
    "    # Для каждой буквы находим медиану в 'Cabin_Number'\n",
    "    median_value = data_train[data_train['Cabin_Letter'] == letter]['Cabin_Number'].median()\n",
    "    \n",
    "    # Заполняем пропуски в 'Cabin_Number' для соответствующей буквы\n",
    "    data_train.loc[(data_train['Cabin_Letter'] == letter) & (data_train['Cabin_Number'].isna()), 'Cabin_Number'] = median_value"
   ]
  },
  {
   "cell_type": "code",
   "execution_count": 28,
   "metadata": {},
   "outputs": [],
   "source": [
    "# Теперь заполняем пропуски в 'Cabin_Number' медианными значениями для каждого 'Cabin_Letter'\n",
    "for letter in data_test['Cabin_Letter'].unique():\n",
    "    # Для каждой буквы находим медиану в 'Cabin_Number'\n",
    "    median_value = data_test[data_test['Cabin_Letter'] == letter]['Cabin_Number'].median()\n",
    "    \n",
    "    # Заполняем пропуски в 'Cabin_Number' для соответствующей буквы\n",
    "    data_test.loc[(data_test['Cabin_Letter'] == letter) & (data_test['Cabin_Number'].isna()), 'Cabin_Number'] = median_value"
   ]
  },
  {
   "cell_type": "code",
   "execution_count": 29,
   "metadata": {},
   "outputs": [],
   "source": [
    "data_train[\"Cabin_Number\"] = data_train[\"Cabin_Number\"].fillna(0)\n",
    "data_train = data_train.drop(columns=[\"Cabin\"])\n",
    "\n",
    "data_test[\"Cabin_Number\"] = data_test[\"Cabin_Number\"].fillna(0)\n",
    "data_test = data_test.drop(columns=[\"Cabin\"])"
   ]
  },
  {
   "cell_type": "code",
   "execution_count": 30,
   "metadata": {},
   "outputs": [],
   "source": [
    "# Кодируем титулы с помощью LabelEncoder\n",
    "le = LabelEncoder()\n",
    "data_train['Cabin_Letter'] = le.fit_transform(data_train['Cabin_Letter'])\n",
    "\n",
    "# Кодируем титулы с помощью LabelEncoder\n",
    "le = LabelEncoder()\n",
    "data_test['Cabin_Letter'] = le.fit_transform(data_test['Cabin_Letter'])"
   ]
  },
  {
   "cell_type": "code",
   "execution_count": 31,
   "metadata": {},
   "outputs": [],
   "source": [
    "# Создание нового признака FamilySize\n",
    "data_train['FamilySize'] = data_train['SibSp'] + data_train['Parch'] + 1\n",
    "\n",
    "# Признак одиночного пассажира\n",
    "data_train['IsAlone'] = (data_train['FamilySize'] == 1).astype(np.int8)\n",
    "\n",
    "# Стоимость билета на человека\n",
    "data_train['FarePerPerson'] = data_train['Fare'] / data_train['FamilySize']"
   ]
  },
  {
   "cell_type": "code",
   "execution_count": 32,
   "metadata": {},
   "outputs": [],
   "source": [
    "# Создание нового признака FamilySize\n",
    "data_test['FamilySize'] = data_test['SibSp'] + data_test['Parch'] + 1\n",
    "\n",
    "# Признак одиночного пассажира\n",
    "data_test['IsAlone'] = (data_test['FamilySize'] == 1).astype(np.int8)\n",
    "\n",
    "# Стоимость билета на человека\n",
    "data_test['FarePerPerson'] = data_test['Fare'] / data_test['FamilySize']"
   ]
  },
  {
   "cell_type": "code",
   "execution_count": 33,
   "metadata": {},
   "outputs": [
    {
     "data": {
      "text/html": [
       "<div>\n",
       "<style scoped>\n",
       "    .dataframe tbody tr th:only-of-type {\n",
       "        vertical-align: middle;\n",
       "    }\n",
       "\n",
       "    .dataframe tbody tr th {\n",
       "        vertical-align: top;\n",
       "    }\n",
       "\n",
       "    .dataframe thead th {\n",
       "        text-align: right;\n",
       "    }\n",
       "</style>\n",
       "<table border=\"1\" class=\"dataframe\">\n",
       "  <thead>\n",
       "    <tr style=\"text-align: right;\">\n",
       "      <th></th>\n",
       "      <th>PassengerId</th>\n",
       "      <th>Pclass</th>\n",
       "      <th>Name</th>\n",
       "      <th>Sex</th>\n",
       "      <th>Age</th>\n",
       "      <th>SibSp</th>\n",
       "      <th>Parch</th>\n",
       "      <th>Fare</th>\n",
       "      <th>Embarked_C</th>\n",
       "      <th>Embarked_Q</th>\n",
       "      <th>...</th>\n",
       "      <th>TitleCategory</th>\n",
       "      <th>FareCluster</th>\n",
       "      <th>Ticket_Prefix</th>\n",
       "      <th>Ticket_Number</th>\n",
       "      <th>Cabin_Count</th>\n",
       "      <th>Cabin_Letter</th>\n",
       "      <th>Cabin_Number</th>\n",
       "      <th>FamilySize</th>\n",
       "      <th>IsAlone</th>\n",
       "      <th>FarePerPerson</th>\n",
       "    </tr>\n",
       "  </thead>\n",
       "  <tbody>\n",
       "    <tr>\n",
       "      <th>0</th>\n",
       "      <td>892</td>\n",
       "      <td>1</td>\n",
       "      <td>206</td>\n",
       "      <td>0</td>\n",
       "      <td>34.5</td>\n",
       "      <td>0</td>\n",
       "      <td>0</td>\n",
       "      <td>7.8292</td>\n",
       "      <td>0</td>\n",
       "      <td>1</td>\n",
       "      <td>...</td>\n",
       "      <td>2</td>\n",
       "      <td>1</td>\n",
       "      <td>0</td>\n",
       "      <td>330911</td>\n",
       "      <td>1</td>\n",
       "      <td>5</td>\n",
       "      <td>4.0</td>\n",
       "      <td>1</td>\n",
       "      <td>1</td>\n",
       "      <td>7.829200</td>\n",
       "    </tr>\n",
       "    <tr>\n",
       "      <th>1</th>\n",
       "      <td>893</td>\n",
       "      <td>1</td>\n",
       "      <td>403</td>\n",
       "      <td>1</td>\n",
       "      <td>47.0</td>\n",
       "      <td>1</td>\n",
       "      <td>0</td>\n",
       "      <td>7.0000</td>\n",
       "      <td>0</td>\n",
       "      <td>0</td>\n",
       "      <td>...</td>\n",
       "      <td>3</td>\n",
       "      <td>1</td>\n",
       "      <td>0</td>\n",
       "      <td>363272</td>\n",
       "      <td>1</td>\n",
       "      <td>5</td>\n",
       "      <td>4.0</td>\n",
       "      <td>2</td>\n",
       "      <td>0</td>\n",
       "      <td>3.500000</td>\n",
       "    </tr>\n",
       "    <tr>\n",
       "      <th>2</th>\n",
       "      <td>894</td>\n",
       "      <td>2</td>\n",
       "      <td>269</td>\n",
       "      <td>0</td>\n",
       "      <td>62.0</td>\n",
       "      <td>0</td>\n",
       "      <td>0</td>\n",
       "      <td>9.6875</td>\n",
       "      <td>0</td>\n",
       "      <td>1</td>\n",
       "      <td>...</td>\n",
       "      <td>2</td>\n",
       "      <td>1</td>\n",
       "      <td>0</td>\n",
       "      <td>240276</td>\n",
       "      <td>1</td>\n",
       "      <td>5</td>\n",
       "      <td>4.0</td>\n",
       "      <td>1</td>\n",
       "      <td>1</td>\n",
       "      <td>9.687500</td>\n",
       "    </tr>\n",
       "    <tr>\n",
       "      <th>3</th>\n",
       "      <td>895</td>\n",
       "      <td>1</td>\n",
       "      <td>408</td>\n",
       "      <td>0</td>\n",
       "      <td>27.0</td>\n",
       "      <td>0</td>\n",
       "      <td>0</td>\n",
       "      <td>8.6625</td>\n",
       "      <td>0</td>\n",
       "      <td>0</td>\n",
       "      <td>...</td>\n",
       "      <td>2</td>\n",
       "      <td>1</td>\n",
       "      <td>0</td>\n",
       "      <td>315154</td>\n",
       "      <td>1</td>\n",
       "      <td>5</td>\n",
       "      <td>4.0</td>\n",
       "      <td>1</td>\n",
       "      <td>1</td>\n",
       "      <td>8.662500</td>\n",
       "    </tr>\n",
       "    <tr>\n",
       "      <th>4</th>\n",
       "      <td>896</td>\n",
       "      <td>1</td>\n",
       "      <td>178</td>\n",
       "      <td>1</td>\n",
       "      <td>22.0</td>\n",
       "      <td>1</td>\n",
       "      <td>1</td>\n",
       "      <td>12.2875</td>\n",
       "      <td>0</td>\n",
       "      <td>0</td>\n",
       "      <td>...</td>\n",
       "      <td>3</td>\n",
       "      <td>1</td>\n",
       "      <td>0</td>\n",
       "      <td>3101298</td>\n",
       "      <td>1</td>\n",
       "      <td>5</td>\n",
       "      <td>4.0</td>\n",
       "      <td>3</td>\n",
       "      <td>0</td>\n",
       "      <td>4.095833</td>\n",
       "    </tr>\n",
       "  </tbody>\n",
       "</table>\n",
       "<p>5 rows × 22 columns</p>\n",
       "</div>"
      ],
      "text/plain": [
       "   PassengerId  Pclass  Name  Sex   Age  SibSp  Parch     Fare  Embarked_C  Embarked_Q  ...  TitleCategory  FareCluster  Ticket_Prefix  Ticket_Number  Cabin_Count  Cabin_Letter  Cabin_Number  \\\n",
       "0          892       1   206    0  34.5      0      0   7.8292           0           1  ...              2            1              0         330911            1             5           4.0   \n",
       "1          893       1   403    1  47.0      1      0   7.0000           0           0  ...              3            1              0         363272            1             5           4.0   \n",
       "2          894       2   269    0  62.0      0      0   9.6875           0           1  ...              2            1              0         240276            1             5           4.0   \n",
       "3          895       1   408    0  27.0      0      0   8.6625           0           0  ...              2            1              0         315154            1             5           4.0   \n",
       "4          896       1   178    1  22.0      1      1  12.2875           0           0  ...              3            1              0        3101298            1             5           4.0   \n",
       "\n",
       "   FamilySize  IsAlone  FarePerPerson  \n",
       "0           1        1       7.829200  \n",
       "1           2        0       3.500000  \n",
       "2           1        1       9.687500  \n",
       "3           1        1       8.662500  \n",
       "4           3        0       4.095833  \n",
       "\n",
       "[5 rows x 22 columns]"
      ]
     },
     "execution_count": 33,
     "metadata": {},
     "output_type": "execute_result"
    }
   ],
   "source": [
    "data_test.head(5)"
   ]
  },
  {
   "cell_type": "code",
   "execution_count": 34,
   "metadata": {},
   "outputs": [
    {
     "name": "stdout",
     "output_type": "stream",
     "text": [
      "Данные успешно записаны в файл train_transform.csv\n"
     ]
    }
   ],
   "source": [
    "# Записываем в файл trait_transform.csv\n",
    "data_train.to_csv(\"data/train_transform.csv\", index=False)\n",
    "\n",
    "print(\"Данные успешно записаны в файл train_transform.csv\")"
   ]
  },
  {
   "cell_type": "code",
   "execution_count": 35,
   "metadata": {},
   "outputs": [
    {
     "name": "stdout",
     "output_type": "stream",
     "text": [
      "Данные успешно записаны в файл test_transform.csv\n"
     ]
    }
   ],
   "source": [
    "# Записываем в файл trait_transform.csv\n",
    "data_test.to_csv(\"data/test_transform.csv\", index=False)\n",
    "\n",
    "print(\"Данные успешно записаны в файл test_transform.csv\")"
   ]
  }
 ],
 "metadata": {
  "kernelspec": {
   "display_name": "Python 3",
   "language": "python",
   "name": "python3"
  },
  "language_info": {
   "codemirror_mode": {
    "name": "ipython",
    "version": 3
   },
   "file_extension": ".py",
   "mimetype": "text/x-python",
   "name": "python",
   "nbconvert_exporter": "python",
   "pygments_lexer": "ipython3",
   "version": "3.11.9"
  }
 },
 "nbformat": 4,
 "nbformat_minor": 2
}
