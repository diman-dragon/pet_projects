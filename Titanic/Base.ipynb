{
 "cells": [
  {
   "cell_type": "code",
   "execution_count": 1,
   "metadata": {},
   "outputs": [],
   "source": [
    "import pandas as pd\n",
    "import seaborn as sns\n",
    "import matplotlib.pyplot as plt\n",
    "import numpy as np\n",
    "from sklearn.impute import KNNImputer\n",
    "from sklearn.ensemble import RandomForestClassifier, GradientBoostingClassifier, ExtraTreesClassifier\n",
    "from sklearn.linear_model import LogisticRegression\n",
    "from sklearn.model_selection import train_test_split\n",
    "from sklearn.metrics import accuracy_score, classification_report\n",
    "import xgboost as xgb\n",
    "import lightgbm as lgb\n",
    "from catboost import CatBoostClassifier"
   ]
  },
  {
   "cell_type": "code",
   "execution_count": 2,
   "metadata": {},
   "outputs": [
    {
     "name": "stdout",
     "output_type": "stream",
     "text": [
      "<class 'pandas.core.frame.DataFrame'>\n",
      "RangeIndex: 891 entries, 0 to 890\n",
      "Data columns (total 12 columns):\n",
      " #   Column       Non-Null Count  Dtype  \n",
      "---  ------       --------------  -----  \n",
      " 0   PassengerId  891 non-null    int64  \n",
      " 1   Survived     891 non-null    int64  \n",
      " 2   Pclass       891 non-null    int64  \n",
      " 3   Name         891 non-null    object \n",
      " 4   Sex          891 non-null    object \n",
      " 5   Age          714 non-null    float64\n",
      " 6   SibSp        891 non-null    int64  \n",
      " 7   Parch        891 non-null    int64  \n",
      " 8   Ticket       891 non-null    object \n",
      " 9   Fare         891 non-null    float64\n",
      " 10  Cabin        204 non-null    object \n",
      " 11  Embarked     889 non-null    object \n",
      "dtypes: float64(2), int64(5), object(5)\n",
      "memory usage: 83.7+ KB\n"
     ]
    }
   ],
   "source": [
    "# Загрузка данных\n",
    "df = pd.read_csv(\"train.csv\")\n",
    "df.info()"
   ]
  },
  {
   "cell_type": "code",
   "execution_count": 3,
   "metadata": {},
   "outputs": [],
   "source": [
    "# Удаление столбца PassengerId\n",
    "df.drop(columns=['PassengerId'], inplace=True)"
   ]
  },
  {
   "cell_type": "code",
   "execution_count": 4,
   "metadata": {},
   "outputs": [],
   "source": [
    "# Преобразование пола в числовой формат\n",
    "df['Sex'] = df['Sex'].map({'male': 0, 'female': 1})"
   ]
  },
  {
   "cell_type": "code",
   "execution_count": null,
   "metadata": {},
   "outputs": [],
   "source": [
    "# Определение пропущенных значений\n",
    "missing_values = df.isnull().sum()\n",
    "missing_values = missing_values[missing_values > 0]\n",
    "\n",
    "# Вывод результатов\n",
    "print(\"Пропущенные значения в данных:\")\n",
    "print(missing_values)\n"
   ]
  },
  {
   "cell_type": "code",
   "execution_count": 6,
   "metadata": {},
   "outputs": [],
   "source": [
    "# Вручную заполняем пропущенные значения\n",
    "df.loc[df['Name'].str.contains('Icard, Miss. Amelie'), 'Embarked'] = 'C'  # Шербур\n",
    "df.loc[df['Name'].str.contains('Stone, Mrs. George Nelson'), 'Embarked'] = 'S'  # Саутгемптон"
   ]
  },
  {
   "cell_type": "code",
   "execution_count": 7,
   "metadata": {},
   "outputs": [],
   "source": [
    "# Создаём объект KNNImputer\n",
    "imputer = KNNImputer(n_neighbors=5)\n",
    "\n",
    "# Применяем imputer к данным\n",
    "df[['Age']] = imputer.fit_transform(df[['Age']])"
   ]
  },
  {
   "cell_type": "code",
   "execution_count": null,
   "metadata": {},
   "outputs": [],
   "source": []
  },
  {
   "cell_type": "code",
   "execution_count": 8,
   "metadata": {},
   "outputs": [],
   "source": [
    "# Подсчет частоты значений в Embarked\n",
    "embarked_counts = df['Embarked'].value_counts()\n",
    "\n",
    "# Преобразование Embarked в числовой формат на основе частотности\n",
    "df['Embarked'] = df['Embarked'].map(embarked_counts)"
   ]
  },
  {
   "cell_type": "code",
   "execution_count": null,
   "metadata": {},
   "outputs": [],
   "source": [
    "df.info()"
   ]
  },
  {
   "cell_type": "code",
   "execution_count": 10,
   "metadata": {},
   "outputs": [],
   "source": [
    "# Добавление столбца количества занимаемых кают\n",
    "df['Cabin_Count'] = df['Cabin'].apply(lambda x: len(str(x).split()) if pd.notna(x) else 1)"
   ]
  },
  {
   "cell_type": "code",
   "execution_count": 11,
   "metadata": {},
   "outputs": [],
   "source": [
    "# # Фильтрация кают, содержащих только буквы\n",
    "# cabin_letters_only = df[df['Cabin'].notna() & df['Cabin'].str.match(r'^[A-Za-z]+$', na=False)]\n",
    "\n",
    "# # Вывод столбцов Name и Cabin\n",
    "# print(cabin_letters_only[['Name', 'Cabin']])"
   ]
  },
  {
   "cell_type": "code",
   "execution_count": 12,
   "metadata": {},
   "outputs": [],
   "source": [
    "# Извлечение только первой буквы каюты\n",
    "df['Cabin_Letter'] = df['Cabin'].str.extract('([A-Za-z])')\n",
    "\n",
    "# Удаление столбца Cabin\n",
    "df.drop(columns=['Cabin'], inplace=True)"
   ]
  },
  {
   "cell_type": "code",
   "execution_count": 13,
   "metadata": {},
   "outputs": [],
   "source": [
    "# Извлечем номер каюты и закондируем"
   ]
  },
  {
   "cell_type": "code",
   "execution_count": 14,
   "metadata": {},
   "outputs": [],
   "source": [
    "# Извлечение титула (обращения) из имени\n",
    "df['Title'] = df['Name'].str.extract(r' ([A-Za-z]+)\\.')\n",
    "\n",
    "# Извлечение фамилии\n",
    "df['Surname'] = df['Name'].str.split(',').str[0]\n",
    "\n",
    "# Удаление столбца Name\n",
    "df = df.drop(columns=['Name'])"
   ]
  },
  {
   "cell_type": "code",
   "execution_count": 15,
   "metadata": {},
   "outputs": [],
   "source": [
    "# Кодирование Title\n",
    "df['Title'] = df['Title'].astype('category').cat.codes\n",
    "\n",
    "# Кодирование Surname\n",
    "df['Surname'] = df['Surname'].astype('category').cat.codes"
   ]
  },
  {
   "cell_type": "code",
   "execution_count": null,
   "metadata": {},
   "outputs": [],
   "source": [
    "# Заполняем пропущенные значения \"0\" (создаем новую категорию)\n",
    "df['Cabin_Letter'] = df['Cabin_Letter'].fillna('0')\n",
    "\n",
    "# One-Hot Encoding для Cabin_Letter\n",
    "df = pd.get_dummies(df, columns=['Cabin_Letter'], prefix='Cabin', dtype=int)\n",
    "\n",
    "# Проверяем результат\n",
    "print(df.head())\n",
    "\n",
    "# Убеждаемся, что исходный столбец удален\n",
    "if 'Cabin_Letter' in df.columns:\n",
    "    df.drop(columns=['Cabin_Letter'], inplace=True)"
   ]
  },
  {
   "cell_type": "code",
   "execution_count": 17,
   "metadata": {},
   "outputs": [],
   "source": [
    "# Создание новых признаков\n",
    "df['FamilySize'] = df['SibSp'] + df['Parch'] + 1\n",
    "df['IsAlone'] = (df['FamilySize'] == 1).astype(int)\n",
    "df['AgeGroup'] = pd.cut(df['Age'], bins=[0, 12, 18, 35, 60, 100], labels=[0, 1, 2, 3, 4]).astype(float)\n",
    "df['FarePerPerson'] = df['Fare'] / df['FamilySize']"
   ]
  },
  {
   "cell_type": "code",
   "execution_count": null,
   "metadata": {},
   "outputs": [],
   "source": [
    "# Выбираем признаки для обучения модели\n",
    "features = ['Pclass', 'Sex', 'Age', 'SibSp', 'Parch', 'Fare', 'Embarked', \n",
    "            'Cabin_Count', 'Title', 'Surname', 'Cabin_A', 'Cabin_B', 'Cabin_C', \n",
    "            'Cabin_D', 'Cabin_E', 'Cabin_F', 'Cabin_G', 'Cabin_T',\n",
    "            'FamilySize', 'IsAlone', 'AgeGroup', 'FarePerPerson']\n",
    "\n",
    "# Удаляем строки, где `Cabin_0` = NaN (если такие есть)\n",
    "df = df.dropna(subset=['Cabin_0'])\n",
    "\n",
    "# Разделяем данные на обучающие и тестовые\n",
    "X = df[features]\n",
    "y = df['Cabin_0']\n",
    "\n",
    "X_train, X_test, y_train, y_test = train_test_split(X, y, test_size=0.2, random_state=42)\n",
    "\n",
    "# Обучаем модель RandomForest\n",
    "model = RandomForestClassifier(n_estimators=100, random_state=42)\n",
    "model.fit(X_train, y_train)\n",
    "\n",
    "# Делаем предсказание на тестовых данных\n",
    "y_pred = model.predict(X_test)\n",
    "\n",
    "# Оцениваем точность модели\n",
    "accuracy = accuracy_score(y_test, y_pred)\n",
    "print(f'Точность модели: {accuracy:.4f}')\n",
    "\n",
    "# Заполняем пропуски в `Cabin_0` с помощью обученной модели\n",
    "df.loc[df['Cabin_0'] == 0, 'Cabin_0'] = model.predict(df.loc[df['Cabin_0'] == 0, features])"
   ]
  },
  {
   "cell_type": "code",
   "execution_count": null,
   "metadata": {},
   "outputs": [],
   "source": [
    "# Выбираем признаки для обучения модели\n",
    "features = ['Pclass', 'Sex', 'Age', 'SibSp', 'Parch', 'Fare', 'Embarked', \n",
    "            'Cabin_Count', 'Title', 'Surname', 'Cabin_0', 'Cabin_A', 'Cabin_B', \n",
    "            'Cabin_C', 'Cabin_D', 'Cabin_E', 'Cabin_F', 'Cabin_G', 'Cabin_T']\n",
    "\n",
    "X = df[features]  # Данные (признаки)\n",
    "y = df['Survived']  # Целевая переменная\n",
    "\n",
    "# Разделяем данные на обучающую и тестовую выборки (80/20)\n",
    "X_train, X_test, y_train, y_test = train_test_split(X, y, test_size=0.2, random_state=42)\n",
    "\n",
    "# Определяем модели\n",
    "models = {\n",
    "    \"Logistic Regression\": LogisticRegression(max_iter=1000),\n",
    "    \"Random Forest\": RandomForestClassifier(n_estimators=200, random_state=42),\n",
    "    \"Gradient Boosting\": GradientBoostingClassifier(n_estimators=200, random_state=42),\n",
    "    \"Extra Trees\": ExtraTreesClassifier(n_estimators=200, random_state=42),\n",
    "    \"XGBoost\": xgb.XGBClassifier(n_estimators=200, random_state=42, use_label_encoder=False, eval_metric='logloss'),\n",
    "    \"LightGBM\": lgb.LGBMClassifier(n_estimators=200, random_state=42),\n",
    "    \"CatBoost\": CatBoostClassifier(iterations=200, random_state=42, verbose=0)\n",
    "}\n",
    "\n",
    "# Обучаем и тестируем модели\n",
    "results = {}\n",
    "\n",
    "for name, model in models.items():\n",
    "    try:\n",
    "        model.fit(X_train, y_train)\n",
    "        y_pred = model.predict(X_test)\n",
    "        accuracy = accuracy_score(y_test, y_pred)\n",
    "\n",
    "        results[name] = accuracy  # Сохраняем точность\n",
    "\n",
    "        print(f\"\\n🔹 {name}\")\n",
    "        print(f\"Точность: {accuracy:.4f}\")\n",
    "        print(classification_report(y_test, y_pred))\n",
    "    except Exception as e:\n",
    "        print(f\"\\n❌ Ошибка в {name}: {e}\")\n",
    "\n",
    "# Сортируем модели по убыванию точности\n",
    "sorted_results = sorted(results.items(), key=lambda x: x[1], reverse=True)\n",
    "\n",
    "# Выводим лучшую модель\n",
    "best_model_name, best_accuracy = sorted_results[0]\n",
    "print(f\"\\n✅ Лучшая модель: {best_model_name} с точностью {best_accuracy:.4f}\")\n",
    "\n",
    "# Вывод всех моделей в порядке точности\n",
    "print(\"\\n📊 Точность моделей (от лучшей к худшей):\")\n",
    "for name, acc in sorted_results:\n",
    "    print(f\"{name}: {acc:.4f}\")\n"
   ]
  },
  {
   "cell_type": "code",
   "execution_count": null,
   "metadata": {},
   "outputs": [],
   "source": [
    "# Загрузка test.csv с сохранением PassengerId\n",
    "test_df = pd.read_csv(\"test.csv\")\n",
    "\n",
    "# Сохраняем PassengerId для выходного файла\n",
    "passenger_ids = test_df['PassengerId']\n",
    "\n",
    "# Применяем те же преобразования к test_df\n",
    "test_df.drop(columns=['PassengerId', 'Ticket'], inplace=True)\n",
    "test_df['Sex'] = test_df['Sex'].map({'male': 0, 'female': 1})\n",
    "test_df['Embarked'] = test_df['Embarked'].map(embarked_counts)\n",
    "test_df[['Age']] = imputer.transform(test_df[['Age']])\n",
    "test_df['Cabin_Count'] = test_df['Cabin'].apply(lambda x: len(str(x).split()) if pd.notna(x) else 1)\n",
    "test_df['Cabin_Letter'] = test_df['Cabin'].str.extract('([A-Za-z])')\n",
    "test_df.drop(columns=['Cabin'], inplace=True)\n",
    "test_df['Title'] = test_df['Name'].str.extract(r' ([A-Za-z]+)\\.')\n",
    "test_df['Surname'] = test_df['Name'].str.split(',').str[0]\n",
    "test_df.drop(columns=['Name'], inplace=True)\n",
    "test_df['Title'] = test_df['Title'].astype('category').cat.codes\n",
    "test_df['Surname'] = test_df['Surname'].astype('category').cat.codes\n",
    "test_df['Cabin_Letter'] = test_df['Cabin_Letter'].fillna('0')\n",
    "test_df = pd.get_dummies(test_df, columns=['Cabin_Letter'], prefix='Cabin', dtype=int)\n",
    "\n",
    "# Добавляем недостающие столбцы, если они есть\n",
    "for col in df.columns:\n",
    "    if col not in test_df.columns:\n",
    "        test_df[col] = 0  \n",
    "\n",
    "# Убеждаемся, что порядок столбцов совпадает\n",
    "test_df = test_df[X.columns]\n",
    "\n",
    "# Предсказание выживания лучшей моделью (Random Forest / CatBoost / XGBoost / LightGBM)\n",
    "best_model = model  # Замените на лучшую модель, например: best_model = catboost_model\n",
    "test_df['Survived'] = best_model.predict(test_df)\n",
    "\n",
    "# Создание выходного файла gender_submission.csv\n",
    "submission = pd.DataFrame({'PassengerId': passenger_ids, 'Survived': test_df['Survived']})\n",
    "submission.to_csv(\"gender_submission.csv\", index=False)\n",
    "\n",
    "print(\"\\n✅ Файл gender_submission.csv успешно сохранен!\")\n",
    "\n",
    "\n"
   ]
  }
 ],
 "metadata": {
  "kernelspec": {
   "display_name": "Python 3",
   "language": "python",
   "name": "python3"
  },
  "language_info": {
   "codemirror_mode": {
    "name": "ipython",
    "version": 3
   },
   "file_extension": ".py",
   "mimetype": "text/x-python",
   "name": "python",
   "nbconvert_exporter": "python",
   "pygments_lexer": "ipython3",
   "version": "3.12.8"
  }
 },
 "nbformat": 4,
 "nbformat_minor": 2
}
