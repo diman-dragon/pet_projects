{
 "cells": [
  {
   "cell_type": "code",
   "execution_count": 1,
   "metadata": {},
   "outputs": [],
   "source": [
    "from fastai.vision.all import *\n",
    "from sklearn.metrics import accuracy_score\n",
    "from sklearn.model_selection import train_test_split\n",
    "from fastai.callback.tracker import SaveModelCallback, EarlyStoppingCallback\n",
    "from fastai.interpret import ClassificationInterpretation\n",
    "import matplotlib.pyplot as plt\n"
   ]
  },
  {
   "cell_type": "code",
   "execution_count": 2,
   "metadata": {},
   "outputs": [],
   "source": [
    "# Пути к файлам CSV\n",
    "train_csv_path = \"train_data.csv\"\n",
    "test_csv_path = \"test_data.csv\"\n",
    "\n",
    "# Загрузка данных\n",
    "train_data = pd.read_csv(train_csv_path)\n",
    "test_data = pd.read_csv(test_csv_path)\n",
    "\n",
    "# Путь к папке с изображениями\n",
    "path = Path('')"
   ]
  },
  {
   "cell_type": "code",
   "execution_count": 3,
   "metadata": {},
   "outputs": [
    {
     "name": "stdout",
     "output_type": "stream",
     "text": [
      "Длина обучающего набора данных: 6194\n",
      "Длина тестового набора данных: 1554\n"
     ]
    }
   ],
   "source": [
    "print(\"Длина обучающего набора данных:\", len(train_data))\n",
    "print(\"Длина тестового набора данных:\", len(test_data))"
   ]
  },
  {
   "cell_type": "code",
   "execution_count": 4,
   "metadata": {},
   "outputs": [],
   "source": [
    "# Создание DataBlock\n",
    "dblock = DataBlock(blocks=(ImageBlock, CategoryBlock),\n",
    "                   get_x=ColReader('image_path', pref=path),\n",
    "                   get_y=ColReader('label'),\n",
    "                   splitter=RandomSplitter())"
   ]
  },
  {
   "cell_type": "code",
   "execution_count": 5,
   "metadata": {},
   "outputs": [],
   "source": [
    "# Создание DataLoaders\n",
    "dls = dblock.dataloaders(train_data, bs=64)"
   ]
  },
  {
   "cell_type": "code",
   "execution_count": 6,
   "metadata": {},
   "outputs": [
    {
     "name": "stderr",
     "output_type": "stream",
     "text": [
      "C:\\Users\\14488\\AppData\\Local\\Packages\\PythonSoftwareFoundation.Python.3.12_qbz5n2kfra8p0\\LocalCache\\local-packages\\Python312\\site-packages\\fastai\\vision\\learner.py:301: UserWarning: `cnn_learner` has been renamed to `vision_learner` -- please update your code\n",
      "  warn(\"`cnn_learner` has been renamed to `vision_learner` -- please update your code\")\n"
     ]
    },
    {
     "data": {
      "text/html": [
       "\n",
       "<style>\n",
       "    /* Turns off some styling */\n",
       "    progress {\n",
       "        /* gets rid of default border in Firefox and Opera. */\n",
       "        border: none;\n",
       "        /* Needs to be in here for Safari polyfill so background images work as expected. */\n",
       "        background-size: auto;\n",
       "    }\n",
       "    progress:not([value]), progress:not([value])::-webkit-progress-bar {\n",
       "        background: repeating-linear-gradient(45deg, #7e7e7e, #7e7e7e 10px, #5c5c5c 10px, #5c5c5c 20px);\n",
       "    }\n",
       "    .progress-bar-interrupted, .progress-bar-interrupted::-webkit-progress-bar {\n",
       "        background: #F44336;\n",
       "    }\n",
       "</style>\n"
      ],
      "text/plain": [
       "<IPython.core.display.HTML object>"
      ]
     },
     "metadata": {},
     "output_type": "display_data"
    },
    {
     "data": {
      "text/html": [
       "<table border=\"1\" class=\"dataframe\">\n",
       "  <thead>\n",
       "    <tr style=\"text-align: left;\">\n",
       "      <th>epoch</th>\n",
       "      <th>train_loss</th>\n",
       "      <th>train_accuracy</th>\n",
       "      <th>valid_loss</th>\n",
       "      <th>valid_accuracy</th>\n",
       "      <th>time</th>\n",
       "    </tr>\n",
       "  </thead>\n",
       "  <tbody>\n",
       "    <tr>\n",
       "      <td>0</td>\n",
       "      <td>3.246193</td>\n",
       "      <td>2.001425</td>\n",
       "      <td>0.357027</td>\n",
       "      <td>12:14</td>\n",
       "    </tr>\n",
       "    <tr>\n",
       "      <td>0</td>\n",
       "      <td>3.246193</td>\n",
       "      <td>0.148133</td>\n",
       "      <td>2.001425</td>\n",
       "      <td>0.357027</td>\n",
       "      <td>12:14</td>\n",
       "    </tr>\n",
       "    <tr>\n",
       "      <td>1</td>\n",
       "      <td>2.413709</td>\n",
       "      <td>1.469025</td>\n",
       "      <td>0.515347</td>\n",
       "      <td>11:26</td>\n",
       "    </tr>\n",
       "    <tr>\n",
       "      <td>1</td>\n",
       "      <td>2.413709</td>\n",
       "      <td>0.345779</td>\n",
       "      <td>1.469025</td>\n",
       "      <td>0.515347</td>\n",
       "      <td>11:26</td>\n",
       "    </tr>\n",
       "    <tr>\n",
       "      <td>2</td>\n",
       "      <td>1.852390</td>\n",
       "      <td>1.295072</td>\n",
       "      <td>0.571082</td>\n",
       "      <td>12:39</td>\n",
       "    </tr>\n",
       "    <tr>\n",
       "      <td>2</td>\n",
       "      <td>1.852390</td>\n",
       "      <td>0.493912</td>\n",
       "      <td>1.295072</td>\n",
       "      <td>0.571082</td>\n",
       "      <td>12:39</td>\n",
       "    </tr>\n",
       "    <tr>\n",
       "      <td>3</td>\n",
       "      <td>1.482747</td>\n",
       "      <td>1.245876</td>\n",
       "      <td>0.596931</td>\n",
       "      <td>12:57</td>\n",
       "    </tr>\n",
       "    <tr>\n",
       "      <td>3</td>\n",
       "      <td>1.482747</td>\n",
       "      <td>0.565544</td>\n",
       "      <td>1.245876</td>\n",
       "      <td>0.596931</td>\n",
       "      <td>12:57</td>\n",
       "    </tr>\n",
       "    <tr>\n",
       "      <td>4</td>\n",
       "      <td>1.201644</td>\n",
       "      <td>1.223700</td>\n",
       "      <td>0.616317</td>\n",
       "      <td>13:00</td>\n",
       "    </tr>\n",
       "    <tr>\n",
       "      <td>4</td>\n",
       "      <td>1.201644</td>\n",
       "      <td>0.642045</td>\n",
       "      <td>1.223700</td>\n",
       "      <td>0.616317</td>\n",
       "      <td>13:00</td>\n",
       "    </tr>\n",
       "    <tr>\n",
       "      <td>5</td>\n",
       "      <td>1.007063</td>\n",
       "      <td>1.172915</td>\n",
       "      <td>0.619548</td>\n",
       "      <td>12:46</td>\n",
       "    </tr>\n",
       "    <tr>\n",
       "      <td>5</td>\n",
       "      <td>1.007063</td>\n",
       "      <td>0.690544</td>\n",
       "      <td>1.172915</td>\n",
       "      <td>0.619548</td>\n",
       "      <td>12:46</td>\n",
       "    </tr>\n",
       "    <tr>\n",
       "      <td>6</td>\n",
       "      <td>0.869072</td>\n",
       "      <td>1.165970</td>\n",
       "      <td>0.638934</td>\n",
       "      <td>12:57</td>\n",
       "    </tr>\n",
       "    <tr>\n",
       "      <td>6</td>\n",
       "      <td>0.869072</td>\n",
       "      <td>0.720779</td>\n",
       "      <td>1.165970</td>\n",
       "      <td>0.638934</td>\n",
       "      <td>12:57</td>\n",
       "    </tr>\n",
       "  </tbody>\n",
       "</table>"
      ],
      "text/plain": [
       "<IPython.core.display.HTML object>"
      ]
     },
     "metadata": {},
     "output_type": "display_data"
    },
    {
     "name": "stdout",
     "output_type": "stream",
     "text": [
      "Better model found at epoch 0 with valid_loss value: 2.00142502784729.\n",
      "Better model found at epoch 1 with valid_loss value: 1.4690247774124146.\n",
      "Better model found at epoch 2 with valid_loss value: 1.295072317123413.\n",
      "Better model found at epoch 3 with valid_loss value: 1.2458763122558594.\n",
      "Better model found at epoch 4 with valid_loss value: 1.2237004041671753.\n",
      "Better model found at epoch 5 with valid_loss value: 1.1729151010513306.\n",
      "Better model found at epoch 6 with valid_loss value: 1.165969729423523.\n",
      "No improvement since epoch 3: early stopping\n"
     ]
    }
   ],
   "source": [
    "# Определение пути для сохранения модели\n",
    "model_save_path = \"fit_one_cycle\"\n",
    "\n",
    "# Определение коллбэка EarlyStopping\n",
    "early_stopping_cb = EarlyStoppingCallback(monitor='valid_loss', min_delta=0.01, patience=3)\n",
    "\n",
    "# Определение коллбэка SaveModel\n",
    "save_model_cb = SaveModelCallback(monitor='valid_loss', fname='best_model')\n",
    "\n",
    "# Определение коллбэка для сохранения всех этапов обучения\n",
    "save_every_epoch_cb = SaveModelCallback(every_epoch=True, monitor='valid_loss', fname='model_checkpoint')\n",
    "\n",
    "# Создание объекта Learner с использованием cnn_learner\n",
    "learn = cnn_learner(dls, resnet34, metrics=accuracy, cbs=[early_stopping_cb, save_model_cb, save_every_epoch_cb])\n",
    "\n",
    "# Создание объекта Recorder для отслеживания всех метрик обучения\n",
    "recorder = Recorder(train_metrics=True)\n",
    "\n",
    "# Вызов метода fit для модели с добавлением всех коллбэков\n",
    "learn.fit_one_cycle(n_epoch=20, cbs=[early_stopping_cb, save_model_cb, save_every_epoch_cb, recorder])"
   ]
  },
  {
   "cell_type": "code",
   "execution_count": 7,
   "metadata": {},
   "outputs": [
    {
     "data": {
      "image/png": "[encoded data removed]",
      "text/plain": [
       "<Figure size 640x480 with 1 Axes>"
      ]
     },
     "metadata": {},
     "output_type": "display_data"
    }
   ],
   "source": [
    "# Визуализация процесса обучения\n",
    "recorder.plot_loss()"
   ]
  },
  {
   "cell_type": "code",
   "execution_count": 8,
   "metadata": {},
   "outputs": [],
   "source": [
    "# Сохранение модели\n",
    "learn.export(fname=model_save_path)"
   ]
  }
 ],
 "metadata": {
  "kernelspec": {
   "display_name": "Python 3",
   "language": "python",
   "name": "python3"
  },
  "language_info": {
   "codemirror_mode": {
    "name": "ipython",
    "version": 3
   },
   "file_extension": ".py",
   "mimetype": "text/x-python",
   "name": "python",
   "nbconvert_exporter": "python",
   "pygments_lexer": "ipython3",
   "version": "3.12.3"
  }
 },
 "nbformat": 4,
 "nbformat_minor": 2
}
